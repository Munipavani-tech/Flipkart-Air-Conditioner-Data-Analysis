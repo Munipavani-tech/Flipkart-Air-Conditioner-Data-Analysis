{
 "cells": [
  {
   "cell_type": "code",
   "execution_count": 1,
   "id": "5dc5931d-0a56-43b8-9fd7-4ca4b42fba28",
   "metadata": {},
   "outputs": [],
   "source": [
    "import requests\n",
    "from bs4 import BeautifulSoup\n",
    "import re\n",
    "import pandas as pd\n",
    "import time"
   ]
  },
  {
   "cell_type": "code",
   "execution_count": 2,
   "id": "db490e0f-4ce5-43bf-9788-892047569403",
   "metadata": {},
   "outputs": [
    {
     "data": {
      "text/plain": [
       "<Response [200]>"
      ]
     },
     "execution_count": 2,
     "metadata": {},
     "output_type": "execute_result"
    }
   ],
   "source": [
    "url = \"https://www.flipkart.com/search?q=ac&otracker=search&otracker1=search&marketplace=FLIPKART&as-show=on&as=off&page=1\"\n",
    "response = requests.get(url)\n",
    "response"
   ]
  },
  {
   "cell_type": "code",
   "execution_count": 8,
   "id": "3c5b31b6-66f9-4f38-a5af-035256e30eba",
   "metadata": {},
   "outputs": [
    {
     "name": "stdout",
     "output_type": "stream",
     "text": [
      "Scraping page 1...\n",
      "Scraping page 2...\n",
      "Scraping page 3...\n",
      "Scraping page 4...\n",
      "Scraping page 5...\n",
      "Scraping page 6...\n",
      "Scraping page 7...\n",
      "Scraping page 8...\n",
      "Scraping page 9...\n",
      "Scraping page 10...\n",
      "Scraping page 11...\n",
      "Scraping page 12...\n",
      "Scraping page 13...\n",
      "Scraping page 14...\n",
      "Scraping page 15...\n",
      "Scraping page 16...\n",
      "Scraping page 17...\n",
      "Scraping page 18...\n",
      "Scraping page 19...\n",
      "Scraping page 20...\n",
      "Scraping page 21...\n",
      "Scraping page 22...\n",
      "Scraping page 23...\n",
      "Scraping page 24...\n",
      "Scraping page 25...\n",
      "Scraping page 26...\n",
      "Scraping page 27...\n",
      "Scraping page 28...\n",
      "Scraping page 29...\n",
      "Scraping page 30...\n",
      "Scraping page 31...\n",
      "Scraping page 32...\n",
      "Scraping page 33...\n",
      "Scraping page 34...\n",
      "Scraping page 35...\n",
      "Scraping page 36...\n",
      "Scraping page 37...\n",
      "Scraping page 38...\n",
      "Scraping page 39...\n",
      "Scraping page 40...\n",
      "Scraping page 41...\n",
      "Scraping page 42...\n",
      "Scraping page 43...\n",
      "Scraping page 44...\n",
      "Scraping page 45...\n",
      "Scraping page 46...\n",
      "Scraping page 47...\n",
      "Scraping page 48...\n",
      "Scraping page 49...\n",
      "\n",
      "✅ Total Records: 984\n",
      "     Brand Model_Year Capacity (Ton) Energy_Rating (Star) AC_Type Feature  \\\n",
      "0   Voltas       2024              1                    5   Split     N/A   \n",
      "1  Samsung       2025            1.5                    3   Split  5 Step   \n",
      "2   Godrej       2025            2.5                    3   Split  5-In-1   \n",
      "3   Daikin       2024            1.5                    3   Split     N/A   \n",
      "4   Daikin       2024            1.5                    5   Split     N/A   \n",
      "5      IFB       2025            1.5                    5   Split     N/A   \n",
      "6   Voltas       2024            1.5                    3   Split     N/A   \n",
      "7     MarQ       2025              1                    3   Split  5-in-1   \n",
      "8   Godrej       2025            1.5                    3   Split  5-In-1   \n",
      "9     Blue       2025            1.3                    3   Split     N/A   \n",
      "\n",
      "  Price (₹) Rating No_of_Ratings No_of_Reviews Annual_Power_Usage (Units)  \\\n",
      "0     30620    4.2         1,792           233                     511.13   \n",
      "1     33590    4.1        34,432         3,202                     852.47   \n",
      "2     48170    3.9           192            18                    1330.81   \n",
      "3     34590    4.2        19,247         1,444                     966.47   \n",
      "4     42390    4.2        13,441         1,191                     785.67   \n",
      "5     36890    4.1        11,079           979                     721.04   \n",
      "6     31290    4.2        74,455         6,572                     975.26   \n",
      "7     21990    4.2        37,762         4,826                      684.9   \n",
      "8     29990      4        17,553         1,493                     951.91   \n",
      "9     29390    4.1         1,922           140                     865.48   \n",
      "\n",
      "          Room_Size Warranty(Years)  \n",
      "0  90 sqft or Below             N/A  \n",
      "1    111 - 150 sqft          5 year  \n",
      "2               N/A          5 Year  \n",
      "3    111 - 150 sqft          5 year  \n",
      "4    111 - 150 sqft          5 year  \n",
      "5    111 - 150 sqft         10 Year  \n",
      "6    111 - 150 sqft             N/A  \n",
      "7  90 sqft or Below          1 Year  \n",
      "8    111 - 150 sqft          5 Year  \n",
      "9    111 - 150 sqft          5 year  \n"
     ]
    }
   ],
   "source": [
    "Brand = [] \n",
    "Model_Year = [] \n",
    "Capacity = [] \n",
    "Energy_Rating = [] \n",
    "AC_Type = []\n",
    "Feature = [] \n",
    "Prices = [] \n",
    "Ratings = [] \n",
    "No_of_Ratings = [] \n",
    "No_of_Reviews = []\n",
    "Annual_Power_Usage = [] \n",
    "Room_Size = [] \n",
    "Warranty = []\n",
    "\n",
    "headers = {\"User-Agent\": \"Mozilla/5.0\"}\n",
    "\n",
    "for page_num in range(1, 50):  \n",
    "    print(f\"Scraping page {page_num}...\")\n",
    "    url = f\"https://www.flipkart.com/search?q=ac&otracker=search&page={page_num}\"\n",
    "    page = requests.get(url, headers=headers)\n",
    "    soup = BeautifulSoup(page.text, \"html.parser\")\n",
    "    \n",
    "    titles = soup.find_all(\"div\", class_=\"KzDlHZ\")\n",
    "    price_tags = soup.find_all(\"div\", class_=\"Nx9bqj _4b5DiR\")\n",
    "    rating_boxes = soup.find_all(\"div\", class_=\"_5OesEi\")\n",
    "    details_blocks = soup.find_all(\"div\", class_=\"_6NESgJ\")\n",
    "\n",
    "    for idx in range(len(titles)):\n",
    "        a = titles[idx].text.strip()\n",
    "\n",
    "        # Brand\n",
    "        b = re.findall(r\"^([A-Za-z]+)\", a)\n",
    "        Brand.append(b[0] if b else \"N/A\")\n",
    "\n",
    "        # Model Year\n",
    "        b = re.findall(r\"(20\\d{2})\", a)\n",
    "        Model_Year.append(b[0] if b else \"N/A\")\n",
    "\n",
    "        # Capacity\n",
    "        b = re.findall(r\"(\\d+(?:\\.\\d+)?)\\s*Ton\", a)\n",
    "        Capacity.append(b[0] if b else \"N/A\")\n",
    "\n",
    "        # Energy Rating\n",
    "        b = re.findall(r\"(\\d)\\s*Star\", a)\n",
    "        Energy_Rating.append(b[0] if b else \"N/A\")\n",
    "\n",
    "        # AC Type\n",
    "        b = re.findall(r\"\\b(Split|Window|Inverter)\\b\", a, re.IGNORECASE)\n",
    "        AC_Type.append(b[0].capitalize() if b else \"N/A\")\n",
    "\n",
    "        # Feature\n",
    "        b = re.findall(r\"([0-9]+-in-[0-9]+|[0-9]+ Step|[0-9]+-Way)\", a, re.IGNORECASE)\n",
    "        Feature.append(b[0] if b else \"N/A\")\n",
    "\n",
    "        # Price\n",
    "        Prices.append(price_tags[idx].text.strip().replace(\"₹\", \"\").replace(\",\", \"\") if idx < len(price_tags) else \"N/A\")\n",
    "\n",
    "        # Ratings & Reviews\n",
    "        if idx < len(rating_boxes):\n",
    "            rating_div = rating_boxes[idx]\n",
    "            rating_value = rating_div.find(\"div\", class_=\"XQDdHH\")\n",
    "            Ratings.append(rating_value.text.strip() if rating_value else \"N/A\")\n",
    "\n",
    "            review_text = rating_div.find(\"span\", class_=\"Wphh3N\")\n",
    "            if review_text:\n",
    "                full_review_text = review_text.text.strip()\n",
    "                r1 = re.findall(r\"([\\d,]+)\\s+Ratings\", full_review_text)\n",
    "                r2 = re.findall(r\"([\\d,]+)\\s+Reviews\", full_review_text)\n",
    "                No_of_Ratings.append(r1[0] if r1 else \"N/A\")\n",
    "                No_of_Reviews.append(r2[0] if r2 else \"N/A\")\n",
    "            else:\n",
    "                No_of_Ratings.append(\"N/A\")\n",
    "                No_of_Reviews.append(\"N/A\")\n",
    "        else:\n",
    "            Ratings.append(\"N/A\")\n",
    "            No_of_Ratings.append(\"N/A\")\n",
    "            No_of_Reviews.append(\"N/A\")\n",
    "\n",
    "        # Annual Power Usage, Room Size, Warranty\n",
    "        if idx < len(details_blocks):\n",
    "            detail_text = details_blocks[idx].text.strip()\n",
    "\n",
    "            # Annual Power Usage\n",
    "            apu = re.findall(r\"([\\d.]+)\\s*Units\", detail_text)\n",
    "            Annual_Power_Usage.append(apu[0] if apu else \"N/A\")\n",
    "\n",
    "            # Room Size\n",
    "            rs = re.findall(r\"(\\d+\\s*-\\s*\\d+\\s*sqft|[\\d]+\\s*sqft\\s*or\\s*Below|Up to \\d+\\s*sqft)\", detail_text, re.IGNORECASE)\n",
    "            Room_Size.append(rs[0] if rs else \"N/A\")\n",
    "\n",
    "            # Warranty (raw text)\n",
    "            w = re.findall(r\"(\\d+\\s*(?:Year|Years))\", detail_text, re.IGNORECASE)\n",
    "            Warranty.append(w[0] if w else \"N/A\")\n",
    "        else:\n",
    "            Annual_Power_Usage.append(\"N/A\")\n",
    "            Room_Size.append(\"N/A\")\n",
    "            Warranty.append(\"N/A\")\n",
    "\n",
    "    time.sleep(2)\n",
    "\n",
    "# Create DataFrame\n",
    "df = pd.DataFrame({\n",
    "    \"Brand\": Brand,\n",
    "    \"Model_Year\": Model_Year,\n",
    "    \"Capacity (Ton)\": Capacity,\n",
    "    \"Energy_Rating (Star)\": Energy_Rating,\n",
    "    \"AC_Type\": AC_Type,\n",
    "    \"Feature\": Feature,\n",
    "    \"Price (₹)\": Prices,\n",
    "    \"Rating\": Ratings,\n",
    "    \"No_of_Ratings\": No_of_Ratings,\n",
    "    \"No_of_Reviews\": No_of_Reviews,\n",
    "    \"Annual_Power_Usage (Units)\": Annual_Power_Usage,\n",
    "    \"Room_Size\": Room_Size,\n",
    "    \"Warranty(Years)\": Warranty,\n",
    "})\n",
    "\n",
    "print(\"\\n✅ Total Records:\", len(df))\n",
    "print(df.head(10))\n"
   ]
  },
  {
   "cell_type": "code",
   "execution_count": 14,
   "id": "3b7c848b-7dab-43de-8967-167e71af8573",
   "metadata": {},
   "outputs": [
    {
     "name": "stdout",
     "output_type": "stream",
     "text": [
      "\n",
      " Data saved to flipkart_ac_data.csv\n"
     ]
    }
   ],
   "source": [
    "# Save to CSV\n",
    "df.to_csv(\"flipkart_ac_data.csv\", index=False, encoding=\"utf-8-sig\")\n",
    "print(\"\\n Data saved to flipkart_ac_data.csv\")"
   ]
  },
  {
   "cell_type": "markdown",
   "id": "bb2eb832-0937-4528-b204-d9e81b56aeee",
   "metadata": {},
   "source": [
    "# Data Cleaning"
   ]
  },
  {
   "cell_type": "code",
   "execution_count": 15,
   "id": "c5276497-933a-4cf3-98c1-cc999cce0da7",
   "metadata": {},
   "outputs": [],
   "source": [
    "import pandas as pd\n",
    "import matplotlib.pyplot as plt\n",
    "import seaborn as sns"
   ]
  },
  {
   "cell_type": "code",
   "execution_count": 52,
   "id": "22e62f15-826a-45b1-b9aa-ebb9983d926b",
   "metadata": {},
   "outputs": [],
   "source": [
    "# Load dataset\n",
    "df = pd.read_csv(\"flipkart_ac_data.csv\")"
   ]
  },
  {
   "cell_type": "code",
   "execution_count": 53,
   "id": "48906163-6d0b-46d0-8670-dedc3707d604",
   "metadata": {},
   "outputs": [
    {
     "data": {
      "text/plain": [
       "(696, 15)"
      ]
     },
     "execution_count": 53,
     "metadata": {},
     "output_type": "execute_result"
    }
   ],
   "source": [
    "df.shape"
   ]
  },
  {
   "cell_type": "code",
   "execution_count": 54,
   "id": "08d05ba9-ecfd-4199-9b00-8720dc221892",
   "metadata": {},
   "outputs": [
    {
     "data": {
      "text/html": [
       "<div>\n",
       "<style scoped>\n",
       "    .dataframe tbody tr th:only-of-type {\n",
       "        vertical-align: middle;\n",
       "    }\n",
       "\n",
       "    .dataframe tbody tr th {\n",
       "        vertical-align: top;\n",
       "    }\n",
       "\n",
       "    .dataframe thead th {\n",
       "        text-align: right;\n",
       "    }\n",
       "</style>\n",
       "<table border=\"1\" class=\"dataframe\">\n",
       "  <thead>\n",
       "    <tr style=\"text-align: right;\">\n",
       "      <th></th>\n",
       "      <th>Brand</th>\n",
       "      <th>Model_Year</th>\n",
       "      <th>Capacity (Ton)</th>\n",
       "      <th>Energy_Rating (Star)</th>\n",
       "      <th>AC_Type</th>\n",
       "      <th>Feature</th>\n",
       "      <th>Price (₹)</th>\n",
       "      <th>Rating</th>\n",
       "      <th>No_of_Ratings</th>\n",
       "      <th>No_of_Reviews</th>\n",
       "      <th>Annual_Power_Usage (Units)</th>\n",
       "      <th>Room_Size</th>\n",
       "      <th>Warranty_Product (Years)</th>\n",
       "      <th>Warranty_Component (Years)</th>\n",
       "      <th>Warranty_Compressor (Years)</th>\n",
       "    </tr>\n",
       "  </thead>\n",
       "  <tbody>\n",
       "    <tr>\n",
       "      <th>0</th>\n",
       "      <td>Voltas</td>\n",
       "      <td>2024.0</td>\n",
       "      <td>1.0</td>\n",
       "      <td>5.0</td>\n",
       "      <td>Split</td>\n",
       "      <td>NaN</td>\n",
       "      <td>30620</td>\n",
       "      <td>4.2</td>\n",
       "      <td>1,792</td>\n",
       "      <td>233</td>\n",
       "      <td>511.13</td>\n",
       "      <td>90 sqft or Below</td>\n",
       "      <td>NaN</td>\n",
       "      <td>NaN</td>\n",
       "      <td>NaN</td>\n",
       "    </tr>\n",
       "    <tr>\n",
       "      <th>1</th>\n",
       "      <td>Samsung</td>\n",
       "      <td>2025.0</td>\n",
       "      <td>1.5</td>\n",
       "      <td>3.0</td>\n",
       "      <td>Split</td>\n",
       "      <td>5 Step</td>\n",
       "      <td>33590</td>\n",
       "      <td>4.1</td>\n",
       "      <td>34,432</td>\n",
       "      <td>3,202</td>\n",
       "      <td>852.47</td>\n",
       "      <td>111 - 150 sqft</td>\n",
       "      <td>5.0</td>\n",
       "      <td>NaN</td>\n",
       "      <td>5.0</td>\n",
       "    </tr>\n",
       "    <tr>\n",
       "      <th>2</th>\n",
       "      <td>Godrej</td>\n",
       "      <td>2025.0</td>\n",
       "      <td>2.5</td>\n",
       "      <td>3.0</td>\n",
       "      <td>Split</td>\n",
       "      <td>5-In-1</td>\n",
       "      <td>48170</td>\n",
       "      <td>3.9</td>\n",
       "      <td>192</td>\n",
       "      <td>18</td>\n",
       "      <td>1330.81</td>\n",
       "      <td>NaN</td>\n",
       "      <td>5.0</td>\n",
       "      <td>NaN</td>\n",
       "      <td>5.0</td>\n",
       "    </tr>\n",
       "    <tr>\n",
       "      <th>3</th>\n",
       "      <td>Daikin</td>\n",
       "      <td>2024.0</td>\n",
       "      <td>1.5</td>\n",
       "      <td>3.0</td>\n",
       "      <td>Split</td>\n",
       "      <td>NaN</td>\n",
       "      <td>34590</td>\n",
       "      <td>4.2</td>\n",
       "      <td>19,247</td>\n",
       "      <td>1,444</td>\n",
       "      <td>966.47</td>\n",
       "      <td>111 - 150 sqft</td>\n",
       "      <td>5.0</td>\n",
       "      <td>NaN</td>\n",
       "      <td>NaN</td>\n",
       "    </tr>\n",
       "    <tr>\n",
       "      <th>4</th>\n",
       "      <td>Daikin</td>\n",
       "      <td>2024.0</td>\n",
       "      <td>1.5</td>\n",
       "      <td>5.0</td>\n",
       "      <td>Split</td>\n",
       "      <td>NaN</td>\n",
       "      <td>42390</td>\n",
       "      <td>4.2</td>\n",
       "      <td>13,441</td>\n",
       "      <td>1,191</td>\n",
       "      <td>785.67</td>\n",
       "      <td>111 - 150 sqft</td>\n",
       "      <td>5.0</td>\n",
       "      <td>NaN</td>\n",
       "      <td>NaN</td>\n",
       "    </tr>\n",
       "  </tbody>\n",
       "</table>\n",
       "</div>"
      ],
      "text/plain": [
       "     Brand  Model_Year  Capacity (Ton)  Energy_Rating (Star) AC_Type Feature  \\\n",
       "0   Voltas      2024.0             1.0                   5.0   Split     NaN   \n",
       "1  Samsung      2025.0             1.5                   3.0   Split  5 Step   \n",
       "2   Godrej      2025.0             2.5                   3.0   Split  5-In-1   \n",
       "3   Daikin      2024.0             1.5                   3.0   Split     NaN   \n",
       "4   Daikin      2024.0             1.5                   5.0   Split     NaN   \n",
       "\n",
       "   Price (₹)  Rating No_of_Ratings No_of_Reviews  Annual_Power_Usage (Units)  \\\n",
       "0      30620     4.2         1,792           233                      511.13   \n",
       "1      33590     4.1        34,432         3,202                      852.47   \n",
       "2      48170     3.9           192            18                     1330.81   \n",
       "3      34590     4.2        19,247         1,444                      966.47   \n",
       "4      42390     4.2        13,441         1,191                      785.67   \n",
       "\n",
       "          Room_Size  Warranty_Product (Years)  Warranty_Component (Years)  \\\n",
       "0  90 sqft or Below                       NaN                         NaN   \n",
       "1    111 - 150 sqft                       5.0                         NaN   \n",
       "2               NaN                       5.0                         NaN   \n",
       "3    111 - 150 sqft                       5.0                         NaN   \n",
       "4    111 - 150 sqft                       5.0                         NaN   \n",
       "\n",
       "   Warranty_Compressor (Years)  \n",
       "0                          NaN  \n",
       "1                          5.0  \n",
       "2                          5.0  \n",
       "3                          NaN  \n",
       "4                          NaN  "
      ]
     },
     "execution_count": 54,
     "metadata": {},
     "output_type": "execute_result"
    }
   ],
   "source": [
    "df.head(5)"
   ]
  },
  {
   "cell_type": "code",
   "execution_count": 55,
   "id": "e9aad433-3a21-485c-9883-cc418b7bebf6",
   "metadata": {},
   "outputs": [
    {
     "name": "stdout",
     "output_type": "stream",
     "text": [
      "<class 'pandas.core.frame.DataFrame'>\n",
      "RangeIndex: 696 entries, 0 to 695\n",
      "Data columns (total 15 columns):\n",
      " #   Column                       Non-Null Count  Dtype  \n",
      "---  ------                       --------------  -----  \n",
      " 0   Brand                        696 non-null    object \n",
      " 1   Model_Year                   511 non-null    float64\n",
      " 2   Capacity (Ton)               696 non-null    float64\n",
      " 3   Energy_Rating (Star)         690 non-null    float64\n",
      " 4   AC_Type                      696 non-null    object \n",
      " 5   Feature                      209 non-null    object \n",
      " 6   Price (₹)                    696 non-null    int64  \n",
      " 7   Rating                       692 non-null    float64\n",
      " 8   No_of_Ratings                692 non-null    object \n",
      " 9   No_of_Reviews                692 non-null    object \n",
      " 10  Annual_Power_Usage (Units)   615 non-null    float64\n",
      " 11  Room_Size                    691 non-null    object \n",
      " 12  Warranty_Product (Years)     506 non-null    float64\n",
      " 13  Warranty_Component (Years)   52 non-null     float64\n",
      " 14  Warranty_Compressor (Years)  530 non-null    float64\n",
      "dtypes: float64(8), int64(1), object(6)\n",
      "memory usage: 81.7+ KB\n"
     ]
    }
   ],
   "source": [
    "df.info()"
   ]
  },
  {
   "cell_type": "code",
   "execution_count": 56,
   "id": "6553de72-c976-4cb1-acf6-2ac4493c663e",
   "metadata": {},
   "outputs": [],
   "source": [
    "# Remove commas and convert to integers\n",
    "df['No_of_Ratings'] = df['No_of_Ratings'].str.replace(',', '', regex=True).astype(float)\n",
    "df['No_of_Reviews'] = df['No_of_Reviews'].str.replace(',', '', regex=True).astype(float)"
   ]
  },
  {
   "cell_type": "code",
   "execution_count": 57,
   "id": "65e238a5-10e8-4ffe-bb34-a3f71405290e",
   "metadata": {},
   "outputs": [
    {
     "name": "stdout",
     "output_type": "stream",
     "text": [
      "Brand                            0\n",
      "Model_Year                     185\n",
      "Capacity (Ton)                   0\n",
      "Energy_Rating (Star)             6\n",
      "AC_Type                          0\n",
      "Feature                        487\n",
      "Price (₹)                        0\n",
      "Rating                           4\n",
      "No_of_Ratings                    4\n",
      "No_of_Reviews                    4\n",
      "Annual_Power_Usage (Units)      81\n",
      "Room_Size                        5\n",
      "Warranty_Product (Years)       190\n",
      "Warranty_Component (Years)     644\n",
      "Warranty_Compressor (Years)    166\n",
      "dtype: int64\n"
     ]
    }
   ],
   "source": [
    "# missing values\n",
    "print(df.isnull().sum())"
   ]
  },
  {
   "cell_type": "code",
   "execution_count": 58,
   "id": "b6e6aac3-5e53-4d0b-8719-9f9ed0c1e69b",
   "metadata": {},
   "outputs": [
    {
     "name": "stderr",
     "output_type": "stream",
     "text": [
      "C:\\Users\\Admin\\AppData\\Local\\Temp\\ipykernel_6712\\3058788347.py:1: FutureWarning: A value is trying to be set on a copy of a DataFrame or Series through chained assignment using an inplace method.\n",
      "The behavior will change in pandas 3.0. This inplace method will never work because the intermediate object on which we are setting values always behaves as a copy.\n",
      "\n",
      "For example, when doing 'df[col].method(value, inplace=True)', try using 'df.method({col: value}, inplace=True)' or df[col] = df[col].method(value) instead, to perform the operation inplace on the original object.\n",
      "\n",
      "\n",
      "  df['Model_Year'].fillna(df['Model_Year'].mode()[0], inplace=True)\n"
     ]
    }
   ],
   "source": [
    "df['Model_Year'].fillna(df['Model_Year'].mode()[0], inplace=True)"
   ]
  },
  {
   "cell_type": "code",
   "execution_count": 59,
   "id": "b6dad39d-658f-4219-a28a-0b84b64a9170",
   "metadata": {},
   "outputs": [
    {
     "name": "stderr",
     "output_type": "stream",
     "text": [
      "C:\\Users\\Admin\\AppData\\Local\\Temp\\ipykernel_6712\\168339988.py:1: FutureWarning: A value is trying to be set on a copy of a DataFrame or Series through chained assignment using an inplace method.\n",
      "The behavior will change in pandas 3.0. This inplace method will never work because the intermediate object on which we are setting values always behaves as a copy.\n",
      "\n",
      "For example, when doing 'df[col].method(value, inplace=True)', try using 'df.method({col: value}, inplace=True)' or df[col] = df[col].method(value) instead, to perform the operation inplace on the original object.\n",
      "\n",
      "\n",
      "  df['Energy_Rating (Star)'].fillna(df['Energy_Rating (Star)'].median(), inplace=True)\n"
     ]
    }
   ],
   "source": [
    "df['Energy_Rating (Star)'].fillna(df['Energy_Rating (Star)'].median(), inplace=True)"
   ]
  },
  {
   "cell_type": "code",
   "execution_count": 60,
   "id": "ce9e57ae-c118-4f7c-a18f-29b455d94902",
   "metadata": {},
   "outputs": [
    {
     "name": "stderr",
     "output_type": "stream",
     "text": [
      "C:\\Users\\Admin\\AppData\\Local\\Temp\\ipykernel_6712\\3060322206.py:1: FutureWarning: A value is trying to be set on a copy of a DataFrame or Series through chained assignment using an inplace method.\n",
      "The behavior will change in pandas 3.0. This inplace method will never work because the intermediate object on which we are setting values always behaves as a copy.\n",
      "\n",
      "For example, when doing 'df[col].method(value, inplace=True)', try using 'df.method({col: value}, inplace=True)' or df[col] = df[col].method(value) instead, to perform the operation inplace on the original object.\n",
      "\n",
      "\n",
      "  df['Feature'].fillna(\"Standard\", inplace=True)\n"
     ]
    }
   ],
   "source": [
    "df['Feature'].fillna(\"Standard\", inplace=True)"
   ]
  },
  {
   "cell_type": "code",
   "execution_count": 61,
   "id": "1795671d-c342-4e30-aff5-fe226a81eb57",
   "metadata": {},
   "outputs": [
    {
     "name": "stderr",
     "output_type": "stream",
     "text": [
      "C:\\Users\\Admin\\AppData\\Local\\Temp\\ipykernel_6712\\1501272357.py:1: FutureWarning: A value is trying to be set on a copy of a DataFrame or Series through chained assignment using an inplace method.\n",
      "The behavior will change in pandas 3.0. This inplace method will never work because the intermediate object on which we are setting values always behaves as a copy.\n",
      "\n",
      "For example, when doing 'df[col].method(value, inplace=True)', try using 'df.method({col: value}, inplace=True)' or df[col] = df[col].method(value) instead, to perform the operation inplace on the original object.\n",
      "\n",
      "\n",
      "  df['Rating'].fillna(df['Rating'].mean(), inplace=True)\n"
     ]
    }
   ],
   "source": [
    "df['Rating'].fillna(df['Rating'].mean(), inplace=True)"
   ]
  },
  {
   "cell_type": "code",
   "execution_count": 62,
   "id": "b371c7b8-bb4c-4fd2-af51-1b965316cc52",
   "metadata": {},
   "outputs": [
    {
     "name": "stderr",
     "output_type": "stream",
     "text": [
      "C:\\Users\\Admin\\AppData\\Local\\Temp\\ipykernel_6712\\2544732012.py:1: FutureWarning: A value is trying to be set on a copy of a DataFrame or Series through chained assignment using an inplace method.\n",
      "The behavior will change in pandas 3.0. This inplace method will never work because the intermediate object on which we are setting values always behaves as a copy.\n",
      "\n",
      "For example, when doing 'df[col].method(value, inplace=True)', try using 'df.method({col: value}, inplace=True)' or df[col] = df[col].method(value) instead, to perform the operation inplace on the original object.\n",
      "\n",
      "\n",
      "  df['Annual_Power_Usage (Units)'].fillna(df['Annual_Power_Usage (Units)'].median(), inplace=True)\n"
     ]
    }
   ],
   "source": [
    "df['Annual_Power_Usage (Units)'].fillna(df['Annual_Power_Usage (Units)'].median(), inplace=True)"
   ]
  },
  {
   "cell_type": "code",
   "execution_count": 63,
   "id": "65c91db6-35ae-4b1e-8b8b-7d515b1c4d49",
   "metadata": {},
   "outputs": [
    {
     "name": "stderr",
     "output_type": "stream",
     "text": [
      "C:\\Users\\Admin\\AppData\\Local\\Temp\\ipykernel_6712\\2815538612.py:1: FutureWarning: A value is trying to be set on a copy of a DataFrame or Series through chained assignment using an inplace method.\n",
      "The behavior will change in pandas 3.0. This inplace method will never work because the intermediate object on which we are setting values always behaves as a copy.\n",
      "\n",
      "For example, when doing 'df[col].method(value, inplace=True)', try using 'df.method({col: value}, inplace=True)' or df[col] = df[col].method(value) instead, to perform the operation inplace on the original object.\n",
      "\n",
      "\n",
      "  df['Room_Size'].fillna(\"Unknown\", inplace=True)\n"
     ]
    }
   ],
   "source": [
    "df['Room_Size'].fillna(\"Unknown\", inplace=True)"
   ]
  },
  {
   "cell_type": "code",
   "execution_count": 65,
   "id": "04e0e336-02c5-47d6-b7ea-54356c62e704",
   "metadata": {},
   "outputs": [],
   "source": [
    "df['Model_Year'] = df['Model_Year'].astype(int)"
   ]
  },
  {
   "cell_type": "code",
   "execution_count": 66,
   "id": "547b7214-e1ec-4043-af9e-555ca59a9ec4",
   "metadata": {},
   "outputs": [],
   "source": [
    "# Fill missing values and convert to int using NumPy\n",
    "df['Model_Year'] = np.where(df['Model_Year'].isna(),\n",
    "                            df['Model_Year'].mode()[0],\n",
    "                            df['Model_Year']).astype(int)\n",
    "\n",
    "df['Warranty_Product (Years)'] = np.where(df['Warranty_Product (Years)'].isna(),\n",
    "                                          1,\n",
    "                                          df['Warranty_Product (Years)']).astype(int)\n",
    "\n",
    "df['Warranty_Component (Years)'] = np.where(df['Warranty_Component (Years)'].isna(),\n",
    "                                            0,\n",
    "                                            df['Warranty_Component (Years)']).astype(int)\n",
    "\n",
    "df['Warranty_Compressor (Years)'] = np.where(df['Warranty_Compressor (Years)'].isna(),\n",
    "                                             5,\n",
    "                                             df['Warranty_Compressor (Years)']).astype(int)"
   ]
  },
  {
   "cell_type": "code",
   "execution_count": 67,
   "id": "57f34c00-b2ce-45c7-9a5b-5cc201590ce3",
   "metadata": {},
   "outputs": [],
   "source": [
    "df.to_csv(\"cleaned_ac_data.csv\", index=False)"
   ]
  },
  {
   "cell_type": "code",
   "execution_count": 68,
   "id": "5e5d6543-494c-4abb-80eb-8df5f0b80bb7",
   "metadata": {},
   "outputs": [],
   "source": [
    "df1=pd.read_csv(\"cleaned_ac_data.csv\")"
   ]
  },
  {
   "cell_type": "code",
   "execution_count": 69,
   "id": "eeab0802-35ea-4b52-8600-ec0bae9a5867",
   "metadata": {},
   "outputs": [
    {
     "name": "stdout",
     "output_type": "stream",
     "text": [
      "<class 'pandas.core.frame.DataFrame'>\n",
      "RangeIndex: 696 entries, 0 to 695\n",
      "Data columns (total 15 columns):\n",
      " #   Column                       Non-Null Count  Dtype  \n",
      "---  ------                       --------------  -----  \n",
      " 0   Brand                        696 non-null    object \n",
      " 1   Model_Year                   696 non-null    int64  \n",
      " 2   Capacity (Ton)               696 non-null    float64\n",
      " 3   Energy_Rating (Star)         696 non-null    float64\n",
      " 4   AC_Type                      696 non-null    object \n",
      " 5   Feature                      696 non-null    object \n",
      " 6   Price (₹)                    696 non-null    int64  \n",
      " 7   Rating                       696 non-null    float64\n",
      " 8   No_of_Ratings                692 non-null    float64\n",
      " 9   No_of_Reviews                692 non-null    float64\n",
      " 10  Annual_Power_Usage (Units)   696 non-null    float64\n",
      " 11  Room_Size                    696 non-null    object \n",
      " 12  Warranty_Product (Years)     696 non-null    int64  \n",
      " 13  Warranty_Component (Years)   696 non-null    int64  \n",
      " 14  Warranty_Compressor (Years)  696 non-null    int64  \n",
      "dtypes: float64(6), int64(5), object(4)\n",
      "memory usage: 81.7+ KB\n"
     ]
    }
   ],
   "source": [
    "df1.info()"
   ]
  },
  {
   "cell_type": "code",
   "execution_count": 75,
   "id": "737a14e1-1dd7-4a06-965f-443f20cbbfae",
   "metadata": {},
   "outputs": [
    {
     "data": {
      "text/html": [
       "<div>\n",
       "<style scoped>\n",
       "    .dataframe tbody tr th:only-of-type {\n",
       "        vertical-align: middle;\n",
       "    }\n",
       "\n",
       "    .dataframe tbody tr th {\n",
       "        vertical-align: top;\n",
       "    }\n",
       "\n",
       "    .dataframe thead th {\n",
       "        text-align: right;\n",
       "    }\n",
       "</style>\n",
       "<table border=\"1\" class=\"dataframe\">\n",
       "  <thead>\n",
       "    <tr style=\"text-align: right;\">\n",
       "      <th></th>\n",
       "      <th>Brand</th>\n",
       "      <th>Model_Year</th>\n",
       "      <th>Capacity (Ton)</th>\n",
       "      <th>Energy_Rating (Star)</th>\n",
       "      <th>AC_Type</th>\n",
       "      <th>Feature</th>\n",
       "      <th>Price (₹)</th>\n",
       "      <th>Rating</th>\n",
       "      <th>No_of_Ratings</th>\n",
       "      <th>No_of_Reviews</th>\n",
       "      <th>Annual_Power_Usage (Units)</th>\n",
       "      <th>Room_Size</th>\n",
       "      <th>Warranty_Product (Years)</th>\n",
       "      <th>Warranty_Component (Years)</th>\n",
       "      <th>Warranty_Compressor (Years)</th>\n",
       "    </tr>\n",
       "  </thead>\n",
       "  <tbody>\n",
       "    <tr>\n",
       "      <th>0</th>\n",
       "      <td>Voltas</td>\n",
       "      <td>2024</td>\n",
       "      <td>1.0</td>\n",
       "      <td>5.0</td>\n",
       "      <td>Split</td>\n",
       "      <td>Standard</td>\n",
       "      <td>30620</td>\n",
       "      <td>4.2</td>\n",
       "      <td>1792.0</td>\n",
       "      <td>233.0</td>\n",
       "      <td>511.13</td>\n",
       "      <td>90 sqft or Below</td>\n",
       "      <td>1</td>\n",
       "      <td>0</td>\n",
       "      <td>5</td>\n",
       "    </tr>\n",
       "    <tr>\n",
       "      <th>1</th>\n",
       "      <td>Samsung</td>\n",
       "      <td>2025</td>\n",
       "      <td>1.5</td>\n",
       "      <td>3.0</td>\n",
       "      <td>Split</td>\n",
       "      <td>5 Step</td>\n",
       "      <td>33590</td>\n",
       "      <td>4.1</td>\n",
       "      <td>34432.0</td>\n",
       "      <td>3202.0</td>\n",
       "      <td>852.47</td>\n",
       "      <td>111 - 150 sqft</td>\n",
       "      <td>5</td>\n",
       "      <td>0</td>\n",
       "      <td>5</td>\n",
       "    </tr>\n",
       "    <tr>\n",
       "      <th>2</th>\n",
       "      <td>Godrej</td>\n",
       "      <td>2025</td>\n",
       "      <td>2.5</td>\n",
       "      <td>3.0</td>\n",
       "      <td>Split</td>\n",
       "      <td>5-In-1</td>\n",
       "      <td>48170</td>\n",
       "      <td>3.9</td>\n",
       "      <td>192.0</td>\n",
       "      <td>18.0</td>\n",
       "      <td>1330.81</td>\n",
       "      <td>Unknown</td>\n",
       "      <td>5</td>\n",
       "      <td>0</td>\n",
       "      <td>5</td>\n",
       "    </tr>\n",
       "    <tr>\n",
       "      <th>3</th>\n",
       "      <td>Daikin</td>\n",
       "      <td>2024</td>\n",
       "      <td>1.5</td>\n",
       "      <td>3.0</td>\n",
       "      <td>Split</td>\n",
       "      <td>Standard</td>\n",
       "      <td>34590</td>\n",
       "      <td>4.2</td>\n",
       "      <td>19247.0</td>\n",
       "      <td>1444.0</td>\n",
       "      <td>966.47</td>\n",
       "      <td>111 - 150 sqft</td>\n",
       "      <td>5</td>\n",
       "      <td>0</td>\n",
       "      <td>5</td>\n",
       "    </tr>\n",
       "    <tr>\n",
       "      <th>4</th>\n",
       "      <td>Daikin</td>\n",
       "      <td>2024</td>\n",
       "      <td>1.5</td>\n",
       "      <td>5.0</td>\n",
       "      <td>Split</td>\n",
       "      <td>Standard</td>\n",
       "      <td>42390</td>\n",
       "      <td>4.2</td>\n",
       "      <td>13441.0</td>\n",
       "      <td>1191.0</td>\n",
       "      <td>785.67</td>\n",
       "      <td>111 - 150 sqft</td>\n",
       "      <td>5</td>\n",
       "      <td>0</td>\n",
       "      <td>5</td>\n",
       "    </tr>\n",
       "  </tbody>\n",
       "</table>\n",
       "</div>"
      ],
      "text/plain": [
       "     Brand  Model_Year  Capacity (Ton)  Energy_Rating (Star) AC_Type  \\\n",
       "0   Voltas        2024             1.0                   5.0   Split   \n",
       "1  Samsung        2025             1.5                   3.0   Split   \n",
       "2   Godrej        2025             2.5                   3.0   Split   \n",
       "3   Daikin        2024             1.5                   3.0   Split   \n",
       "4   Daikin        2024             1.5                   5.0   Split   \n",
       "\n",
       "    Feature  Price (₹)  Rating  No_of_Ratings  No_of_Reviews  \\\n",
       "0  Standard      30620     4.2         1792.0          233.0   \n",
       "1    5 Step      33590     4.1        34432.0         3202.0   \n",
       "2    5-In-1      48170     3.9          192.0           18.0   \n",
       "3  Standard      34590     4.2        19247.0         1444.0   \n",
       "4  Standard      42390     4.2        13441.0         1191.0   \n",
       "\n",
       "   Annual_Power_Usage (Units)         Room_Size  Warranty_Product (Years)  \\\n",
       "0                      511.13  90 sqft or Below                         1   \n",
       "1                      852.47    111 - 150 sqft                         5   \n",
       "2                     1330.81           Unknown                         5   \n",
       "3                      966.47    111 - 150 sqft                         5   \n",
       "4                      785.67    111 - 150 sqft                         5   \n",
       "\n",
       "   Warranty_Component (Years)  Warranty_Compressor (Years)  \n",
       "0                           0                            5  \n",
       "1                           0                            5  \n",
       "2                           0                            5  \n",
       "3                           0                            5  \n",
       "4                           0                            5  "
      ]
     },
     "execution_count": 75,
     "metadata": {},
     "output_type": "execute_result"
    }
   ],
   "source": [
    "df.head()"
   ]
  },
  {
   "cell_type": "code",
   "execution_count": null,
   "id": "0df1dc07-b428-4c1f-ba45-4648b3a15812",
   "metadata": {},
   "outputs": [],
   "source": []
  }
 ],
 "metadata": {
  "kernelspec": {
   "display_name": "Python [conda env:base] *",
   "language": "python",
   "name": "conda-base-py"
  },
  "language_info": {
   "codemirror_mode": {
    "name": "ipython",
    "version": 3
   },
   "file_extension": ".py",
   "mimetype": "text/x-python",
   "name": "python",
   "nbconvert_exporter": "python",
   "pygments_lexer": "ipython3",
   "version": "3.13.5"
  }
 },
 "nbformat": 4,
 "nbformat_minor": 5
}
